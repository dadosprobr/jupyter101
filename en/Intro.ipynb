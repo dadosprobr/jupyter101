{
 "cells": [
  {
   "cell_type": "markdown",
   "metadata": {},
   "source": [
    "# Introduction to Jupyter Notebook and Python\n",
    "\n",
    "Presented at [PCaPAC 2016](http://pages.cnpem.br/pcapac2016/introduction-to-jupyter-notebook/ \"11th International Workshop Personal Computers and Particle Accelerator Controls\") at LNLS in Campinas, Brazil.\n",
    "\n",
    "## Objective\n",
    "\n",
    "Provide an overview of the Jupyter Notebook tool and the Python language.\n",
    "\n",
    "## Topics\n",
    "\n",
    "* The [Jupyter Notebook User Interface](Jupyter UI.ipynb)\n",
    "* [Python essentials](Python essentials.ipynb)\n",
    "* [Basic NumPy](Basic Numpy.ipynb) array operations\n",
    "* Graphing examples with **matplotlib**: [Fibonacci generator](Fibonacci generator.ipynb), [Pi simulation](Pi simulation.ipynb)\n"
   ]
  },
  {
   "cell_type": "code",
   "execution_count": null,
   "metadata": {
    "collapsed": true
   },
   "outputs": [],
   "source": []
  }
 ],
 "metadata": {
  "kernelspec": {
   "display_name": "Python 3",
   "language": "python",
   "name": "python3"
  },
  "language_info": {
   "codemirror_mode": {
    "name": "ipython",
    "version": 3
   },
   "file_extension": ".py",
   "mimetype": "text/x-python",
   "name": "python",
   "nbconvert_exporter": "python",
   "pygments_lexer": "ipython3",
   "version": "3.5.1"
  }
 },
 "nbformat": 4,
 "nbformat_minor": 0
}
