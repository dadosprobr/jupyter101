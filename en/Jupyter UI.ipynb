{
 "cells": [
  {
   "cell_type": "markdown",
   "metadata": {},
   "source": [
    "## About Jupyter Notebook"
   ]
  },
  {
   "cell_type": "markdown",
   "metadata": {},
   "source": [
    "Jupyter Notebook can be used for:\n",
    "\n",
    "* Interactive data exploration;\n",
    "* Data analytics and visualization;\n",
    "* Financial quantitatve analysis;\n",
    "* Learning Python, R, Julia and dozens of other supported languages\n",
    "\n",
    "The name **Jupyter** mixes **Julia**, **Python** and **R**, the first three languages targeted after *iPython Notebook* was reenginered to support different language processors (called *kernels*). This notebook is using the Python 3 kernel, as indicated in the top right corner.\n",
    "\n",
    "Jupyter is a browser-based application that to edit and share interactive documents called *notebooks*."
   ]
  },
  {
   "cell_type": "markdown",
   "metadata": {},
   "source": [
    "## Interacting with a Jupyter Notebook\n",
    "\n",
    "As a first step, please take the **User Interface Tour** available from the **Help** menu above. \n",
    "\n",
    "A notebook is made of text and code cells. You are reading a text cell, formatted using the [Markdown](https://daringfireball.net/projects/markdown/syntax) syntax. To learn more about editing Markdown in Jupyter, read [Working With Markdown Cells](Working With Markdown Cells.ipynb) (local copy).\n",
    "\n",
    "## Code cells\n",
    "\n",
    "Code cells are written in the programming language supported by the running kernel. They produce output in the form of text, tables or graphics. This is a code cell:"
   ]
  },
  {
   "cell_type": "code",
   "execution_count": null,
   "metadata": {
    "collapsed": false
   },
   "outputs": [],
   "source": [
    "def fibonacci(n):\n",
    "    a, b = 0, 1\n",
    "    while n:\n",
    "        a, b = b, a + b\n",
    "        n -= 1\n",
    "    return a\n",
    "\n",
    "fibonacci(100)"
   ]
  },
  {
   "cell_type": "markdown",
   "metadata": {},
   "source": [
    "The label ``In [n]`` on the left indicates that is a code cell. If there's no ``n``, the cell has not been executed. You can execute a code cell by selecting it and pressing the ``<ctrl><enter>`` keyboard combination.  Please do it now and you'll see the 100th number in the Fibonacci sequence displayed in a new output cell, labeld ``Out [n]``, where ``n`` matches the number of the code cell that produced that output.\n",
    "\n",
    "You can edit a code or text cell by clicking on it. Please edit the code cell above, changing the `100` argument in the `fibonacci(100)` function call to another number.\n",
    "\n",
    "The content of a cell can be as simple as math expression like the one below. Use ``<shift><enter>`` to run it and select the next cell."
   ]
  },
  {
   "cell_type": "code",
   "execution_count": null,
   "metadata": {
    "collapsed": false
   },
   "outputs": [],
   "source": [
    "2**100"
   ]
  },
  {
   "cell_type": "markdown",
   "metadata": {},
   "source": [
    "## Magic commands\n",
    "\n",
    "In addition to the syntax of the kernel language, code cells support *magic commands*, which a are written with a `%` prefix, like this:"
   ]
  },
  {
   "cell_type": "code",
   "execution_count": 2,
   "metadata": {
    "collapsed": false
   },
   "outputs": [
    {
     "name": "stdout",
     "output_type": "stream",
     "text": [
      "total 56\r\n",
      "drwxrwxr-x 3 luciano luciano  4096 Out 25 04:16 \u001b[0m\u001b[01;34m.\u001b[0m/\r\n",
      "drwxrwxr-x 7 luciano luciano  4096 Out 25 03:59 \u001b[01;34m..\u001b[0m/\r\n",
      "-rw-rw-r-- 1 luciano luciano  6157 Out 25 04:16 About Jupyter.ipynb\r\n",
      "-rw-rw-r-- 1 luciano luciano  3642 Out 24 23:19 Demo fibonacci.ipynb\r\n",
      "-rw-rw-r-- 1 luciano luciano 10533 Out 24 23:20 fibonacci.ipynb\r\n",
      "-rw-rw-r-- 1 luciano luciano  4171 Out 25 00:08 Gerador de Fibonacci.ipynb\r\n",
      "-rw-rw-r-- 1 luciano luciano  1508 Out 24 23:08 Intro.ipynb\r\n",
      "drwxr-xr-x 2 luciano luciano  4096 Out 25 03:54 \u001b[01;34m.ipynb_checkpoints\u001b[0m/\r\n",
      "-rw-rw-r-- 1 luciano luciano  7768 Out 25 04:04 Working With Markdown Cells.ipynb\r\n"
     ]
    }
   ],
   "source": [
    "%ls -la"
   ]
  },
  {
   "cell_type": "markdown",
   "metadata": {},
   "source": [
    "To learn about the available *magic commands*, run `%magic`:"
   ]
  },
  {
   "cell_type": "code",
   "execution_count": 4,
   "metadata": {
    "collapsed": false
   },
   "outputs": [],
   "source": [
    "%magic"
   ]
  },
  {
   "cell_type": "markdown",
   "metadata": {},
   "source": [
    "## Graphics\n",
    "\n",
    "Several graphing libraries can be used with the Python kernel, but the most popular is **matplotlib**.\n",
    "\n",
    "To draw graphs in a notebook, use the *magic* command `%matplotlib inline` and the `matplotlib.pyplot` object, conventionally imported as `plt`:"
   ]
  },
  {
   "cell_type": "code",
   "execution_count": null,
   "metadata": {
    "collapsed": false
   },
   "outputs": [],
   "source": [
    "%matplotlib inline\n",
    "# use the \"magic\" command above once to configure inline graphs\n",
    "\n",
    "import matplotlib.pyplot as plt\n",
    "plt.bar(range(1, 7), [fibonacci(n) for n in range(1, 7)])\n",
    "plt.xlabel('Fibonnacci numbers')\n",
    "plt.show()"
   ]
  },
  {
   "cell_type": "markdown",
   "metadata": {},
   "source": [
    "If you want to convey an idea instead of actual data, you may want to format a graph as in the style of a xkcd comic:"
   ]
  },
  {
   "cell_type": "code",
   "execution_count": null,
   "metadata": {
    "collapsed": false
   },
   "outputs": [],
   "source": [
    "with plt.xkcd():\n",
    "    plt.bar(range(1, 7), [fibonacci(n) for n in range(1, 7)])\n",
    "    plt.xlabel('vacation days')\n",
    "    plt.ylabel('ice cream gallons')\n",
    "    plt.show()"
   ]
  },
  {
   "cell_type": "markdown",
   "metadata": {},
   "source": [
    "> *Attention*: the [Humor-Sans.ttf](https://github.com/shreyankg/xkcd-desktop/blob/master/Humor-Sans.ttf) font needs to be installed for correct display of xkcd graphics.\n",
    "> After installing the font, if you still get a missing font warning, run the cell below to clear the Jupyter font cache."
   ]
  },
  {
   "cell_type": "code",
   "execution_count": null,
   "metadata": {
    "collapsed": false
   },
   "outputs": [],
   "source": [
    "import matplotlib as mpl\n",
    "font_cache_path = mpl.get_cachedir() + '/fontList*.cache'\n",
    "# uncomment the magic command below to actually clear the cache\n",
    "# %rm $font_cache_path"
   ]
  },
  {
   "cell_type": "markdown",
   "metadata": {},
   "source": [
    "## Multimedia displays\n",
    "\n",
    "The `display` module of the [IPython API](http://ipython.readthedocs.io/en/stable/api/generated/IPython.display.html) allows embedding several external media types into a notebook, including a Web page:"
   ]
  },
  {
   "cell_type": "code",
   "execution_count": 5,
   "metadata": {
    "collapsed": false,
    "scrolled": true
   },
   "outputs": [
    {
     "data": {
      "text/html": [
       "\n",
       "        <iframe\n",
       "            width=\"100%\"\n",
       "            height=\"400\"\n",
       "            src=\"https://en.wikipedia.org/wiki/Fibonacci_number\"\n",
       "            frameborder=\"0\"\n",
       "            allowfullscreen\n",
       "        ></iframe>\n",
       "        "
      ],
      "text/plain": [
       "<IPython.lib.display.IFrame at 0x7f80cc4eafd0>"
      ]
     },
     "execution_count": 5,
     "metadata": {},
     "output_type": "execute_result"
    }
   ],
   "source": [
    "from IPython.display import IFrame\n",
    "IFrame('https://en.wikipedia.org/wiki/Fibonacci_number', width='100%', height=400)"
   ]
  },
  {
   "cell_type": "markdown",
   "metadata": {},
   "source": [
    "## Links\n",
    "\n",
    "* [Project Jupyter](http://jupyter.org/)\n",
    "* [IPython](https://ipython.org/), stand-alone Python 2/3 interactive shells, *kernels* for Jupyter and paralel computing tools\n",
    "* [A gallery of interesting IPython Notebooks](https://github.com/ipython/ipython/wiki/A-gallery-of-interesting-IPython-Notebooks)\n",
    "* Rendered Notebooks on Gitub: [announcement](http://blog.jupyter.org/2015/05/07/rendering-notebooks-on-github/), [example](https://github.com/ramalho/farinha/blob/master/Farinha.ipynb)\n",
    "* [Live Notebooks on Mybinder](http://mybinder.org/) [(comments by C. Titus Brown)](http://ivory.idyll.org/blog//2016-mybinder.html).  "
   ]
  },
  {
   "cell_type": "code",
   "execution_count": null,
   "metadata": {
    "collapsed": true
   },
   "outputs": [],
   "source": []
  }
 ],
 "metadata": {
  "kernelspec": {
   "display_name": "Python 3",
   "language": "python",
   "name": "python3"
  },
  "language_info": {
   "codemirror_mode": {
    "name": "ipython",
    "version": 3
   },
   "file_extension": ".py",
   "mimetype": "text/x-python",
   "name": "python",
   "nbconvert_exporter": "python",
   "pygments_lexer": "ipython3",
   "version": "3.5.1"
  }
 },
 "nbformat": 4,
 "nbformat_minor": 0
}
