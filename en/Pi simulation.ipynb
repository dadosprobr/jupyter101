{
 "cells": [
  {
   "cell_type": "markdown",
   "metadata": {},
   "source": [
    "# Computing π by simulation\n",
    "\n",
    "<img src=\"../img/cannon-circle.png\" width=\"500\">\n",
    "\n",
    "Consider a cannon firing random shots on a square field enclosing a circle. If the radius of the circle is 1, then it's area is **π**, and the area of the field is **4**.\n",
    "\n",
    "After **n** shots, the number **c** of shots inside the circle will be proportional to **π**:\n",
    "\n",
    "$$\n",
    "\\frac{π}{4}=\\frac{c}{n}\n",
    "$$\n",
    "\n",
    "Then the value of **π** can be computed like this:\n",
    "\n",
    "$$\n",
    "π = \\frac{4 \\cdot c}{n}\n",
    "$$\n",
    "\n",
    "To get started, let's generate coordinates for the shots:"
   ]
  },
  {
   "cell_type": "code",
   "execution_count": 1,
   "metadata": {},
   "outputs": [],
   "source": [
    "import random\n",
    "\n",
    "def rnd(n):\n",
    "    return [random.uniform(-1, 1) for _ in range(n)]\n",
    "\n",
    "SHOTS = 5000\n",
    "x = rnd(SHOTS)\n",
    "y = rnd(SHOTS)"
   ]
  },
  {
   "cell_type": "markdown",
   "metadata": {},
   "source": [
    "Now we can select coordinate pairs inside the circle:"
   ]
  },
  {
   "cell_type": "code",
   "execution_count": 2,
   "metadata": {},
   "outputs": [],
   "source": [
    "def pairs(seq1, seq2):\n",
    "    yes1, yes2, no1, no2 = [], [], [], []\n",
    "    for a, b in zip(seq1, seq2):\n",
    "        if (a*a + b*b)**.5 <= 1:\n",
    "            yes1.append(a)\n",
    "            yes2.append(b)\n",
    "        else:\n",
    "            no1.append(a)\n",
    "            no2.append(b)\n",
    "    return yes1, yes2, no1, no2\n",
    "\n",
    "x_sim, y_sim, x_nao, y_nao = pairs(x, y)"
   ]
  },
  {
   "cell_type": "markdown",
   "metadata": {},
   "source": [
    "We now plot the shots inside the circle in blue, outside in red:"
   ]
  },
  {
   "cell_type": "code",
   "execution_count": 3,
   "metadata": {},
   "outputs": [
    {
     "data": {
      "text/plain": [
       "<matplotlib.collections.PathCollection at 0x7f5393bdacc0>"
      ]
     },
     "execution_count": 3,
     "metadata": {},
     "output_type": "execute_result"
    },
    {
     "data": {
      "image/png": "[encoded data removed]",
      "text/plain": [
       "<matplotlib.figure.Figure at 0x7f53b85720b8>"
      ]
     },
     "metadata": {},
     "output_type": "display_data"
    }
   ],
   "source": [
    "%matplotlib inline\n",
    "import matplotlib.pyplot as plt\n",
    "\n",
    "plt.figure()\n",
    "plt.axes().set_aspect('equal')\n",
    "plt.grid()\n",
    "plt.scatter(x_sim, y_sim, 3, color='b')\n",
    "plt.scatter(x_nao, y_nao, 3, color='r')"
   ]
  },
  {
   "cell_type": "markdown",
   "metadata": {},
   "source": [
    "We can now see the **π** approximation:\n",
    "\n",
    "$$\n",
    "π = \\frac{4 \\cdot c}{n}\n",
    "$$"
   ]
  },
  {
   "cell_type": "code",
   "execution_count": 4,
   "metadata": {},
   "outputs": [
    {
     "data": {
      "text/plain": [
       "3.1368"
      ]
     },
     "execution_count": 4,
     "metadata": {},
     "output_type": "execute_result"
    }
   ],
   "source": [
    "4 * len(x_sim) / SHOTS"
   ]
  },
  {
   "cell_type": "markdown",
   "metadata": {},
   "source": [
    "The next function abstracts the process so far. Given `n`, `pi(n)` will compute an approximation of π by generating random coordinates and counting those that fall inside the circle:"
   ]
  },
  {
   "cell_type": "code",
   "execution_count": 5,
   "metadata": {
    "collapsed": true
   },
   "outputs": [],
   "source": [
    "def pi(n):\n",
    "    uni = random.uniform\n",
    "    c = 0\n",
    "    i = 0\n",
    "    while i < n:\n",
    "        if abs(complex(uni(-1, 1), uni(-1, 1))) <= 1:\n",
    "            c += 1\n",
    "        i += 1\n",
    "    return c * 4.0 / n"
   ]
  },
  {
   "cell_type": "markdown",
   "metadata": {},
   "source": [
    "Using this loop, I tried the `pi()` function with `n` at different orders of magnitude:\n",
    "\n",
    "```python\n",
    "res = []\n",
    "for i in range(10):\n",
    "    n = 10**i\n",
    "    res.append((n, pi(n)))\n",
    "\n",
    "res\n",
    "```\n",
    "\n",
    "My notebook took more than 25 minutes to compute these results:"
   ]
  },
  {
   "cell_type": "code",
   "execution_count": 6,
   "metadata": {
    "collapsed": true
   },
   "outputs": [],
   "source": [
    "res = [\n",
    " (1, 4.0),\n",
    " (10, 2.8),\n",
    " (100, 3.24),\n",
    " (1000, 3.096),\n",
    " (10000, 3.1248),\n",
    " (100000, 3.14144),\n",
    " (1000000, 3.142716),\n",
    " (10000000, 3.1410784),\n",
    " (100000000, 3.14149756),\n",
    " (1000000000, 3.141589804)\n",
    "]"
   ]
  },
  {
   "cell_type": "markdown",
   "metadata": {},
   "source": [
    "Now we can graph how the results of `pi()` approach the actual **π** (the red line):"
   ]
  },
  {
   "cell_type": "code",
   "execution_count": 7,
   "metadata": {
    "scrolled": true
   },
   "outputs": [
    {
     "data": {
      "text/plain": [
       "[0, 1, 2, 3, 4, 5, 6, 7, 8, 9]"
      ]
     },
     "execution_count": 7,
     "metadata": {},
     "output_type": "execute_result"
    },
    {
     "data": {
      "image/png": "[encoded data removed]",
      "text/plain": [
       "<matplotlib.figure.Figure at 0x7f5393c1bef0>"
      ]
     },
     "metadata": {},
     "output_type": "display_data"
    }
   ],
   "source": [
    "import math\n",
    "\n",
    "plt.figure()\n",
    "x, y = zip(*res)\n",
    "x = [round(math.log(n, 10)) for n in x]\n",
    "plt.plot(x, y)\n",
    "plt.axhline(math.pi, color='r')\n",
    "plt.grid()\n",
    "plt.xticks(x, ['10**%1.0f' % a for a in x])\n",
    "x"
   ]
  }
 ],
 "metadata": {
  "kernelspec": {
   "display_name": "Python 3",
   "language": "python",
   "name": "python3"
  },
  "language_info": {
   "codemirror_mode": {
    "name": "ipython",
    "version": 3
   },
   "file_extension": ".py",
   "mimetype": "text/x-python",
   "name": "python",
   "nbconvert_exporter": "python",
   "pygments_lexer": "ipython3",
   "version": "3.6.6"
  }
 },
 "nbformat": 4,
 "nbformat_minor": 1
}
