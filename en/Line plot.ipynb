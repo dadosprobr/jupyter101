{
 "cells": [
  {
   "cell_type": "markdown",
   "metadata": {},
   "source": [
    "# Simple multi-line plot"
   ]
  },
  {
   "cell_type": "markdown",
   "metadata": {
    "collapsed": true
   },
   "source": [
    "## Vantagens do Jupyter Notebook\n",
    "\n",
    "### 1) Interatividade\n",
    "Você pode limpar e tratar os dados, montar gráficos e realizar experimentos interativos sem perder tempo, pois os dados tratados ficam na memória.\n",
    "\n",
    "### 2) Código e documentação ao lado das figuras\n",
    "Cada figura pode ser acompanhada de um texto explicando raciocínios e algoritmos, junto com as fórmulas, dados, funções e parâmetros utilizados.\n",
    "\n",
    "### 3) Compartilharmento\n",
    "Arquivos do notebook (`.ipynb`) podem ser compartilhados online.\n"
   ]
  },
  {
   "cell_type": "markdown",
   "metadata": {},
   "source": [
    "## Exemplo 1: linhas\n",
    "Primeiro, alguns dados (faz de conta que são índices de popularidade de linguagens de programação usadas para visualização de dados)."
   ]
  },
  {
   "cell_type": "code",
   "execution_count": 3,
   "metadata": {
    "collapsed": true
   },
   "outputs": [],
   "source": [
    "anos = range(2012, 2016)\n",
    "py_pop = [4.3, 2.5, 3.5, 4.5]\n",
    "js_pop = [2.4, 4.4, 1.8, 2.8]\n",
    "r_pop = [2, 2, 3, 5]"
   ]
  },
  {
   "cell_type": "markdown",
   "metadata": {
    "collapsed": true
   },
   "source": [
    "Agora, o gráfico:"
   ]
  },
  {
   "cell_type": "code",
   "execution_count": 4,
   "metadata": {
    "collapsed": false
   },
   "outputs": [
    {
     "data": {
      "image/png": "[encoded data removed]",
      "text/plain": [
       "<matplotlib.figure.Figure at 0x7fb88763b3c8>"
      ]
     },
     "metadata": {},
     "output_type": "display_data"
    }
   ],
   "source": [
    "%matplotlib inline\n",
    "import matplotlib.pyplot as plt\n",
    "\n",
    "plt.figure()\n",
    "plt.plot(anos, py_pop, label='Python')\n",
    "plt.plot(anos, js_pop, label='JavaScript')\n",
    "plt.plot(anos, r_pop, label='R')\n",
    "\n",
    "plt.xticks(anos, [str(a) for a in anos])\n",
    "plt.ylim(0, 5)\n",
    "plt.yticks([1, 2, 3, 4, 5])\n",
    "plt.ylabel('Popularidade')\n",
    "plt.legend(loc='lower center', ncol=3)\n",
    "plt.grid()"
   ]
  }
 ],
 "metadata": {
  "kernelspec": {
   "display_name": "Python 3",
   "language": "python",
   "name": "python3"
  },
  "language_info": {
   "codemirror_mode": {
    "name": "ipython",
    "version": 3
   },
   "file_extension": ".py",
   "mimetype": "text/x-python",
   "name": "python",
   "nbconvert_exporter": "python",
   "pygments_lexer": "ipython3",
   "version": "3.5.1"
  }
 },
 "nbformat": 4,
 "nbformat_minor": 0
}
