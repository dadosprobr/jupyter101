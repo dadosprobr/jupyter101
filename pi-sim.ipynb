{
 "cells": [
  {
   "cell_type": "markdown",
   "metadata": {},
   "source": [
    "# Calculando π por simulação"
   ]
  },
  {
   "cell_type": "code",
   "execution_count": 1,
   "metadata": {
    "collapsed": false
   },
   "outputs": [],
   "source": [
    "import random\n",
    "\n",
    "def rnd(n):\n",
    "    return [random.uniform(-1, 1) for _ in range(n)]"
   ]
  },
  {
   "cell_type": "code",
   "execution_count": 2,
   "metadata": {
    "collapsed": false
   },
   "outputs": [
    {
     "data": {
      "text/plain": [
       "3.1148"
      ]
     },
     "execution_count": 2,
     "metadata": {},
     "output_type": "execute_result"
    },
    {
     "data": {
      "image/png": "[encoded data removed]",
      "text/plain": [
       "<matplotlib.figure.Figure at 0x7fc680a00c50>"
      ]
     },
     "metadata": {},
     "output_type": "display_data"
    }
   ],
   "source": [
    "%matplotlib inline\n",
    "import matplotlib.pyplot as plt\n",
    "\n",
    "NUM_PONTOS = 10000\n",
    "x = rnd(NUM_PONTOS)\n",
    "y = rnd(NUM_PONTOS)\n",
    "\n",
    "def pares(seq1, seq2, predicado=lambda a, b: True):\n",
    "    sim1, sim2, nao1, nao2 = [], [], [], []\n",
    "    for a, b in zip(seq1, seq2):\n",
    "        if predicado(a, b):\n",
    "            sim1.append(a)\n",
    "            sim2.append(b)\n",
    "        else:\n",
    "            nao1.append(a)\n",
    "            nao2.append(b)\n",
    "    return sim1, sim2, nao1, nao2\n",
    "\n",
    "def no_circulo(a, b):\n",
    "    return (a*a + b*b)**.5 <= 1\n",
    "\n",
    "x_sim, y_sim, x_nao, y_nao = pares(x, y, no_circulo)\n",
    "\n",
    "plt.figure()\n",
    "plt.scatter(x_sim, y_sim, color='b')\n",
    "plt.scatter(x_nao, y_nao, color='r')\n",
    "\n",
    "len(x_sim) / NUM_PONTOS * 4"
   ]
  }
 ],
 "metadata": {
  "kernelspec": {
   "display_name": "Python 3",
   "language": "python",
   "name": "python3"
  },
  "language_info": {
   "codemirror_mode": {
    "name": "ipython",
    "version": 3
   },
   "file_extension": ".py",
   "mimetype": "text/x-python",
   "name": "python",
   "nbconvert_exporter": "python",
   "pygments_lexer": "ipython3",
   "version": "3.5.1"
  }
 },
 "nbformat": 4,
 "nbformat_minor": 0
}
