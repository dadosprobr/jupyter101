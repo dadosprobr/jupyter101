{
 "cells": [
  {
   "cell_type": "markdown",
   "metadata": {},
   "source": [
    "# Calculando π por simulação estocástica\n",
    "\n",
    "<img src=\"imagens/canhao-circulo.png\" width=\"500\">\n",
    "\n",
    "Imagine um canhão disparando aleatoriamente sobre um campo quadrado com um círculo inscrito. Se o quadrado tem 2 unidades de lado então o raio do círculo é 1 e sua área é **π**.\n",
    "\n",
    "Após **n** disparos, a quantidade de balas dentro do círculo (**d**) será proporcional a **π**, conforme essa fórmula:\n",
    "\n",
    "$$\n",
    "\\frac{π}{4}=\\frac{d}{n}\n",
    "$$\n",
    "\n",
    "Então valor de **π** pode ser aproximado assim:\n",
    "\n",
    "$$\n",
    "π = \\frac{4 \\cdot d}{n}\n",
    "$$\n",
    "\n",
    "Para começar, vamos gerar valores para as coordenadas dos \"disparos\":"
   ]
  },
  {
   "cell_type": "code",
   "execution_count": 1,
   "metadata": {
    "collapsed": false
   },
   "outputs": [],
   "source": [
    "import random\n",
    "\n",
    "def rnd(n):\n",
    "    return [random.uniform(-1, 1) for _ in range(n)]\n",
    "\n",
    "NUM_PONTOS = 5000\n",
    "x = rnd(NUM_PONTOS)\n",
    "y = rnd(NUM_PONTOS)"
   ]
  },
  {
   "cell_type": "markdown",
   "metadata": {},
   "source": [
    "Agora podemos selecionar os pares de coordenadas dentro e fora do círculo:"
   ]
  },
  {
   "cell_type": "code",
   "execution_count": 2,
   "metadata": {
    "collapsed": false
   },
   "outputs": [],
   "source": [
    "def pares(seq1, seq2):\n",
    "    sim1, sim2, nao1, nao2 = [], [], [], []\n",
    "    for a, b in zip(seq1, seq2):\n",
    "        if (a*a + b*b)**.5 <= 1:\n",
    "            sim1.append(a)\n",
    "            sim2.append(b)\n",
    "        else:\n",
    "            nao1.append(a)\n",
    "            nao2.append(b)\n",
    "    return sim1, sim2, nao1, nao2\n",
    "\n",
    "x_sim, y_sim, x_nao, y_nao = pares(x, y)"
   ]
  },
  {
   "cell_type": "markdown",
   "metadata": {},
   "source": [
    "Agora, plotamos os disparos dentro do círculo em azul, e fora em vermelho:"
   ]
  },
  {
   "cell_type": "code",
   "execution_count": 3,
   "metadata": {
    "collapsed": false
   },
   "outputs": [
    {
     "data": {
      "text/plain": [
       "<matplotlib.collections.PathCollection at 0x10da38f28>"
      ]
     },
     "execution_count": 3,
     "metadata": {},
     "output_type": "execute_result"
    },
    {
     "data": {
      "image/png": "[encoded data removed]",
      "text/plain": [
       "<matplotlib.figure.Figure at 0x1053d20b8>"
      ]
     },
     "metadata": {},
     "output_type": "display_data"
    }
   ],
   "source": [
    "%matplotlib inline\n",
    "import matplotlib.pyplot as plt\n",
    "\n",
    "plt.figure()\n",
    "plt.axes().set_aspect('equal')\n",
    "plt.grid()\n",
    "plt.scatter(x_sim, y_sim, 3, color='b')\n",
    "plt.scatter(x_nao, y_nao, 3, color='r')"
   ]
  },
  {
   "cell_type": "markdown",
   "metadata": {},
   "source": [
    "Agora podemos ver a aproximação de **π** produzida com os parâmetros acima:\n",
    "\n",
    "$$\n",
    "π = \\frac{4 \\cdot d}{n}\n",
    "$$"
   ]
  },
  {
   "cell_type": "code",
   "execution_count": 4,
   "metadata": {
    "collapsed": false
   },
   "outputs": [
    {
     "data": {
      "text/plain": [
       "3.128"
      ]
     },
     "execution_count": 4,
     "metadata": {},
     "output_type": "execute_result"
    }
   ],
   "source": [
    "4 * len(x_sim) / NUM_PONTOS"
   ]
  },
  {
   "cell_type": "code",
   "execution_count": 5,
   "metadata": {
    "collapsed": true
   },
   "outputs": [],
   "source": [
    "def pi(n):\n",
    "    uni = random.uniform\n",
    "    c = 0\n",
    "    i = 0\n",
    "    while i < n:\n",
    "        if abs(complex(uni(-1, 1), uni(-1, 1))) <= 1:\n",
    "            c += 1\n",
    "        i += 1\n",
    "    return c * 4.0 / n"
   ]
  },
  {
   "cell_type": "markdown",
   "metadata": {},
   "source": [
    "Para mostrar como a razão **d/n** se aproxima de **π** à medida que **n** aumenta, usei este laço:\n",
    "\n",
    "```python\n",
    "res = []\n",
    "for i in range(10):\n",
    "    n = 10**i\n",
    "    res.append((n, pi(n)))\n",
    "\n",
    "res\n",
    "```\n",
    "\n",
    "O demorou mais de 25 minutos em meu notebook para gerar os dados a seguir:"
   ]
  },
  {
   "cell_type": "code",
   "execution_count": 6,
   "metadata": {
    "collapsed": true
   },
   "outputs": [],
   "source": [
    "res = [\n",
    " (1, 4.0),\n",
    " (10, 2.8),\n",
    " (100, 3.24),\n",
    " (1000, 3.096),\n",
    " (10000, 3.1248),\n",
    " (100000, 3.14144),\n",
    " (1000000, 3.142716),\n",
    " (10000000, 3.1410784),\n",
    " (100000000, 3.14149756),\n",
    " (1000000000, 3.141589804)\n",
    "]"
   ]
  },
  {
   "cell_type": "markdown",
   "metadata": {},
   "source": [
    "Com esses dados, o gráfico mostra a aproximação de **π** (a linha vermelha):"
   ]
  },
  {
   "cell_type": "code",
   "execution_count": 7,
   "metadata": {
    "collapsed": false,
    "scrolled": true
   },
   "outputs": [
    {
     "data": {
      "text/plain": [
       "<matplotlib.text.Text at 0x10da47748>"
      ]
     },
     "execution_count": 7,
     "metadata": {},
     "output_type": "execute_result"
    },
    {
     "data": {
      "image/png": "[encoded data removed]",
      "text/plain": [
       "<matplotlib.figure.Figure at 0x10b6d7390>"
      ]
     },
     "metadata": {},
     "output_type": "display_data"
    }
   ],
   "source": [
    "import math\n",
    "\n",
    "plt.figure()\n",
    "x, y = zip(*res)\n",
    "x = [round(math.log(n, 10)) for n in x]\n",
    "plt.plot(x, y)\n",
    "plt.axhline(math.pi, color='r')\n",
    "plt.grid()\n",
    "plt.xticks(x, ['10**%1.0f' % a for a in x])\n",
    "plt.xlabel('quantidade pares (x,y)')"
   ]
  },
  {
   "cell_type": "code",
   "execution_count": null,
   "metadata": {
    "collapsed": true
   },
   "outputs": [],
   "source": []
  }
 ],
 "metadata": {
  "kernelspec": {
   "display_name": "Python 3",
   "language": "python",
   "name": "python3"
  },
  "language_info": {
   "codemirror_mode": {
    "name": "ipython",
    "version": 3
   },
   "file_extension": ".py",
   "mimetype": "text/x-python",
   "name": "python",
   "nbconvert_exporter": "python",
   "pygments_lexer": "ipython3",
   "version": "3.5.1"
  }
 },
 "nbformat": 4,
 "nbformat_minor": 0
}
